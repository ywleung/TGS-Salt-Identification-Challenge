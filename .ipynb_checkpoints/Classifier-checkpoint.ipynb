{
 "cells": [
  {
   "cell_type": "code",
   "execution_count": 46,
   "metadata": {},
   "outputs": [],
   "source": [
    "import numpy as np\n",
    "import pandas as pd\n",
    "import seaborn as sns\n",
    "import matplotlib.pyplot as plt\n",
    "import cv2\n",
    "import os\n",
    "from tqdm import tqdm_notebook, tnrange\n",
    "from skimage.transform import resize\n",
    "from sklearn.model_selection import train_test_split, cross_val_score, StratifiedKFold\n",
    "\n",
    "from keras.layers import Input, Activation, BatchNormalization, Add, concatenate, Lambda, Dropout\n",
    "from keras.layers import Conv2D, MaxPooling2D, AveragePooling2D, ZeroPadding2D, Conv2DTranspose\n",
    "from keras.models import Model\n",
    "from keras.callbacks import EarlyStopping, ModelCheckpoint, ReduceLROnPlateau\n",
    "import keras.backend as K\n",
    "\n",
    "import tensorflow as tf"
   ]
  },
  {
   "cell_type": "code",
   "execution_count": 37,
   "metadata": {},
   "outputs": [],
   "source": [
    "# im_width = 128\n",
    "# im_height = 128\n",
    "\n",
    "img_size_orig = 101\n",
    "img_size_target = 128\n",
    "\n",
    "def resize_img(img, target_size):\n",
    "    resized_img = resize(img, (target_size, target_size, 1), mode = \"constant\",\n",
    "                         preserve_range = True)\n",
    "    return resized_img\n",
    "# border = 5\n",
    "# im_chan = 2 # Number of channels: first is original and second cumsum(axis=0)\n",
    "# n_features = 1 # Number of extra features, like depth\n",
    "\n",
    "# df_depths = pd.read_csv('../input/depths.csv', index_col='id')\n",
    "# df_depths.head()"
   ]
  },
  {
   "cell_type": "code",
   "execution_count": 3,
   "metadata": {},
   "outputs": [],
   "source": [
    "# # load data\n",
    "# train = pd.read_csv(\"datasets/train.csv\")\n",
    "# depths = pd.read_csv(\"datasets/depths.csv\")\n",
    "\n",
    "# # combine train and depths\n",
    "# train = pd.merge(train, depths, on = \"id\")\n",
    "\n",
    "# test = depths[~depths[\"id\"].isin(train[\"id\"])].reset_index(drop = True)"
   ]
  },
  {
   "cell_type": "code",
   "execution_count": 4,
   "metadata": {},
   "outputs": [],
   "source": [
    "# # load and normalize image data\n",
    "# # training set\n",
    "# X_train = [cv2.imread(\"datasets/train/images/{}\".format(filename))[:, :, 0] / 255.\n",
    "#                 for filename in os.listdir(\"datasets/train/images\")]\n",
    "# X_train = np.array(X_train)\n",
    "# Y_train = [cv2.imread(\"datasets/train/masks/{}\".format(filename))[:, :, 0] / 255.\n",
    "#                for filename in os.listdir(\"datasets/train/masks\")]\n",
    "# Y_train = np.array(Y_train)\n",
    "\n",
    "# # test set\n",
    "# X_test = [cv2.imread(\"datasets/test/images/{}\".format(filename))[:, :, 0] / 255.\n",
    "#                for filename in os.listdir(\"datasets/test/images\")]\n",
    "# X_test = np.array(X_test)"
   ]
  },
  {
   "cell_type": "code",
   "execution_count": 29,
   "metadata": {},
   "outputs": [],
   "source": [
    "train_ids = next(os.walk(\"datasets/train/images\"))[2]\n",
    "test_ids = next(os.walk(\"datasets/test/images\"))[2]"
   ]
  },
  {
   "cell_type": "code",
   "execution_count": 38,
   "metadata": {},
   "outputs": [
    {
     "data": {
      "application/vnd.jupyter.widget-view+json": {
       "model_id": "8ad75d16800d48abb3c504c4fb84bf36",
       "version_major": 2,
       "version_minor": 0
      },
      "text/plain": [
       "HBox(children=(IntProgress(value=0, max=4000), HTML(value='')))"
      ]
     },
     "metadata": {},
     "output_type": "display_data"
    },
    {
     "name": "stdout",
     "output_type": "stream",
     "text": [
      "\n"
     ]
    }
   ],
   "source": [
    "# Get and resize train images and masks\n",
    "X_train = np.zeros((len(train_ids), img_size_target, img_size_target, 1), dtype = np.uint8)\n",
    "Y_train = np.zeros((len(train_ids), img_size_target, img_size_target, 1), dtype = np.bool)\n",
    "\n",
    "for i, id_ in tqdm_notebook(enumerate(train_ids), total = len(train_ids)):\n",
    "    path = \"datasets/train/\"\n",
    "    img = cv2.imread(path + \"images/\" + id_)\n",
    "    x = img[:, :, 1]\n",
    "    x = resize_img(x, 128)\n",
    "    X_train[i] = x\n",
    "    mask = cv2.imread(path + 'masks/' + id_)[:, :, 1]\n",
    "    Y_train[i] = resize_img(mask, 128)"
   ]
  },
  {
   "cell_type": "code",
   "execution_count": 39,
   "metadata": {},
   "outputs": [
    {
     "data": {
      "image/png": "[encoded data removed]",
      "text/plain": [
       "<Figure size 432x288 with 1 Axes>"
      ]
     },
     "metadata": {},
     "output_type": "display_data"
    },
    {
     "data": {
      "image/png": "[encoded data removed]",
      "text/plain": [
       "<Figure size 432x288 with 1 Axes>"
      ]
     },
     "metadata": {},
     "output_type": "display_data"
    }
   ],
   "source": [
    "# Check if training data looks all right\n",
    "ix = np.random.randint(0, len(train_ids))\n",
    "plt.imshow(np.dstack((X_train[ix],X_train[ix],X_train[ix])))\n",
    "plt.show()\n",
    "tmp = np.squeeze(Y_train[ix]).astype(np.float32)\n",
    "plt.imshow(np.dstack((tmp,tmp,tmp)))\n",
    "plt.show()"
   ]
  },
  {
   "cell_type": "code",
   "execution_count": 8,
   "metadata": {},
   "outputs": [],
   "source": [
    "# X_train = np.expand_dims(X_train, axis = 3)\n",
    "# Y_train = np.expand_dims(Y_train, axis = 3)\n",
    "\n",
    "# X_test = np.expand_dims(X_test, axis = 3)"
   ]
  },
  {
   "cell_type": "code",
   "execution_count": 9,
   "metadata": {},
   "outputs": [],
   "source": [
    "# # normalization\n",
    "# X_train = X_train / 255\n",
    "# X_valid = X_valid / 255"
   ]
  },
  {
   "cell_type": "code",
   "execution_count": 40,
   "metadata": {},
   "outputs": [],
   "source": [
    "# split train and valid set\n",
    "X_train, X_valid, Y_train, Y_valid = train_test_split(X_train, Y_train, test_size = 0.2)"
   ]
  },
  {
   "cell_type": "code",
   "execution_count": 41,
   "metadata": {},
   "outputs": [
    {
     "name": "stdout",
     "output_type": "stream",
     "text": [
      "(3200, 128, 128, 1) (3200, 128, 128, 1) (800, 128, 128, 1) (800, 128, 128, 1)\n"
     ]
    }
   ],
   "source": [
    "print(X_train.shape, Y_train.shape, X_valid.shape, Y_valid.shape)"
   ]
  },
  {
   "cell_type": "code",
   "execution_count": 44,
   "metadata": {},
   "outputs": [],
   "source": [
    "# define iou metrics\n",
    "def iou_metric(y_label, y_pred):\n",
    "    iou_thresholds = [0.5, 0.55, 0.6, 0.65, 0.7, 0.75, 0.8, 0.85, 0.9, 0.95]\n",
    "    prec = []\n",
    "    for threshold in iou_thresholds:\n",
    "        y_pred_ = tf.to_int32(y_pred > threshold)\n",
    "        score, up_opt = tf.metrics.mean_iou(y_label, y_pred_, 2)\n",
    "        K.get_session().run(tf.local_variables_initializer())\n",
    "        with tf.control_dependencies([up_opt]):\n",
    "            score = tf.identity(score)\n",
    "        prec.append(score)\n",
    "    return K.mean(K.stack(prec), axis = 0)"
   ]
  },
  {
   "cell_type": "code",
   "execution_count": 42,
   "metadata": {},
   "outputs": [],
   "source": [
    "# image size\n",
    "image_height = X_train.shape[1]\n",
    "image_width = X_train.shape[2]"
   ]
  },
  {
   "cell_type": "code",
   "execution_count": 14,
   "metadata": {},
   "outputs": [],
   "source": [
    "# def model(image_height, image_width):\n",
    "#     input_tensor = Input(shape = (image_height, image_width, 1))\n",
    "\n",
    "#     # 101 -> 129\n",
    "#     X = ZeroPadding2D((14, 14))(input_tensor)\n",
    "\n",
    "#     # 129 -> 64\n",
    "#     conv_1 = Conv2D(16, (3, 3), strides = (2, 2))(X)\n",
    "#     act_1 = BatchNormalization(axis = 3)(conv_1)\n",
    "#     act_1 = Activation(\"relu\")(act_1)\n",
    "\n",
    "#     # 64 -> 32\n",
    "#     conv_2 = Conv2D(32 , (3, 3), strides = (2, 2), padding = \"same\")(act_1)\n",
    "#     act_2 = BatchNormalization(axis = 3)(conv_2)\n",
    "#     act_2 = Activation(\"relu\")(act_2)\n",
    "\n",
    "#     # 32 - > 16\n",
    "#     conv_3 = Conv2D(64 , (3, 3), strides = (2, 2), padding = \"same\")(act_2)\n",
    "#     act_3 = BatchNormalization(axis = 3)(conv_3)\n",
    "#     act_3 = Activation(\"relu\")(act_3)\n",
    "\n",
    "#     # 16 -> 8\n",
    "#     conv_4 = Conv2D(128 , (3, 3), strides = (2, 2), padding = \"same\")(act_3)\n",
    "#     act_4 = BatchNormalization(axis = 3)(conv_4)\n",
    "#     act_4 = Activation(\"relu\")(act_4)\n",
    "\n",
    "#     # 8 -> 16\n",
    "#     deconv_1 = Conv2DTranspose(128, (3, 3), strides = (2, 2), padding = \"same\")(act_4)\n",
    "#     act_5 = BatchNormalization(axis = 3)(deconv_1)\n",
    "#     act_5 = Activation(\"relu\")(act_5)\n",
    "\n",
    "#     # 16 - > 32\n",
    "#     deconv_2 = Conv2DTranspose(64, (3, 3), strides = (2, 2), padding = \"same\")(act_5)\n",
    "#     act_6 = BatchNormalization(axis = 3)(deconv_2)\n",
    "#     act_6 = Activation(\"relu\")(act_6)\n",
    "    \n",
    "#     # 32 -> 64\n",
    "#     deconv_3 = Conv2DTranspose(32, (3, 3), strides = (2, 2), padding = \"same\")(act_6)\n",
    "#     act_7 = BatchNormalization(axis = 3)(deconv_3)\n",
    "#     act_7 = Activation(\"relu\")(act_7)\n",
    "    \n",
    "#     # 64 -> 128\n",
    "#     deconv_4 = Conv2DTranspose(16, (3, 3), strides = (2, 2), padding = \"same\")(act_7)\n",
    "#     act_8 = BatchNormalization(axis = 3)(deconv_4)\n",
    "#     act_8 = Activation(\"relu\")(act_8)\n",
    "    \n",
    "#     # 128 -> 101\n",
    "#     X = Conv2D(1, (28, 28), strides = 1, activation = \"sigmoid\")(act_8)\n",
    "\n",
    "#     model = Model(inputs = input_tensor, outputs = X)\n",
    "    \n",
    "#     return model"
   ]
  },
  {
   "cell_type": "code",
   "execution_count": 43,
   "metadata": {},
   "outputs": [],
   "source": [
    "# U-net model\n",
    "def model(image_height, image_width):\n",
    "    input_tensor = Input(shape = (image_height, image_width, 1))\n",
    "    s = Lambda(lambda x: x / 255) (input_tensor)\n",
    "       \n",
    "    c1 = Conv2D(8, (3, 3), activation='relu', padding='same') (s)\n",
    "    c1 = Conv2D(8, (3, 3), activation='relu', padding='same') (c1)\n",
    "    p1 = MaxPooling2D((2, 2)) (c1)\n",
    "    p1 = Dropout(0.5)(p1)\n",
    "\n",
    "    c2 = Conv2D(16, (3, 3), activation='relu', padding='same') (p1)\n",
    "    c2 = Conv2D(16, (3, 3), activation='relu', padding='same') (c2)\n",
    "    p2 = MaxPooling2D((2, 2)) (c2)\n",
    "    p2 = Dropout(0.5)(p2)\n",
    "\n",
    "    c3 = Conv2D(32, (3, 3), activation='relu', padding='same') (p2)\n",
    "    c3 = Conv2D(32, (3, 3), activation='relu', padding='same') (c3)\n",
    "    p3 = MaxPooling2D((2, 2)) (c3)\n",
    "    p3 = Dropout(0.5)(p3)\n",
    "\n",
    "    c4 = Conv2D(64, (3, 3), activation='relu', padding='same') (p3)\n",
    "    c4 = Conv2D(64, (3, 3), activation='relu', padding='same') (c4)\n",
    "    p4 = MaxPooling2D(pool_size=(2, 2)) (c4)\n",
    "    p4 = Dropout(0.5)(p4)\n",
    "\n",
    "    c5 = Conv2D(128, (3, 3), activation='relu', padding='same') (p4)\n",
    "    c5 = Conv2D(128, (3, 3), activation='relu', padding='same') (c5)\n",
    "\n",
    "    u6 = Conv2DTranspose(64, (2, 2), strides=(2, 2), padding='same') (c5)\n",
    "    u6 = concatenate([u6, c4])\n",
    "    u6 = Dropout(0.5)(u6)\n",
    "    c6 = Conv2D(64, (3, 3), activation='relu', padding='same') (u6)\n",
    "    c6 = Conv2D(64, (3, 3), activation='relu', padding='same') (c6)\n",
    "\n",
    "    u7 = Conv2DTranspose(32, (2, 2), strides=(2, 2), padding='same') (c6)\n",
    "    u7 = concatenate([u7, c3])\n",
    "    u7 = Dropout(0.5)(u7)\n",
    "    c7 = Conv2D(32, (3, 3), activation='relu', padding='same') (u7)\n",
    "    c7 = Conv2D(32, (3, 3), activation='relu', padding='same') (c7)\n",
    "\n",
    "    u8 = Conv2DTranspose(16, (2, 2), strides=(2, 2), padding='same') (c7)\n",
    "    u8 = concatenate([u8, c2])\n",
    "    u8 = Dropout(0.5)(u8)\n",
    "    c8 = Conv2D(16, (3, 3), activation='relu', padding='same') (u8)\n",
    "    c8 = Conv2D(16, (3, 3), activation='relu', padding='same') (c8)\n",
    "\n",
    "    u9 = Conv2DTranspose(8, (2, 2), strides=(2, 2), padding='same') (c8)\n",
    "    u9 = concatenate([u9, c1], axis=3)\n",
    "    u9 = Dropout(0.5)(u9)\n",
    "    c9 = Conv2D(8, (3, 3), activation='relu', padding='same') (u9)\n",
    "    c9 = Conv2D(8, (3, 3), activation='relu', padding='same') (c9)\n",
    "\n",
    "    pred = Conv2D(1, (1, 1), activation='sigmoid') (c9)\n",
    "    \n",
    "    model = Model(inputs = input_tensor, outputs = pred)\n",
    "    \n",
    "    return model"
   ]
  },
  {
   "cell_type": "code",
   "execution_count": 47,
   "metadata": {},
   "outputs": [],
   "source": [
    "model = model(image_height, image_width)"
   ]
  },
  {
   "cell_type": "code",
   "execution_count": 48,
   "metadata": {},
   "outputs": [
    {
     "name": "stdout",
     "output_type": "stream",
     "text": [
      "__________________________________________________________________________________________________\n",
      "Layer (type)                    Output Shape         Param #     Connected to                     \n",
      "==================================================================================================\n",
      "input_4 (InputLayer)            (None, 128, 128, 1)  0                                            \n",
      "__________________________________________________________________________________________________\n",
      "lambda_4 (Lambda)               (None, 128, 128, 1)  0           input_4[0][0]                    \n",
      "__________________________________________________________________________________________________\n",
      "conv2d_41 (Conv2D)              (None, 128, 128, 8)  80          lambda_4[0][0]                   \n",
      "__________________________________________________________________________________________________\n",
      "conv2d_42 (Conv2D)              (None, 128, 128, 8)  584         conv2d_41[0][0]                  \n",
      "__________________________________________________________________________________________________\n",
      "max_pooling2d_10 (MaxPooling2D) (None, 64, 64, 8)    0           conv2d_42[0][0]                  \n",
      "__________________________________________________________________________________________________\n",
      "dropout_1 (Dropout)             (None, 64, 64, 8)    0           max_pooling2d_10[0][0]           \n",
      "__________________________________________________________________________________________________\n",
      "conv2d_43 (Conv2D)              (None, 64, 64, 16)   1168        dropout_1[0][0]                  \n",
      "__________________________________________________________________________________________________\n",
      "conv2d_44 (Conv2D)              (None, 64, 64, 16)   2320        conv2d_43[0][0]                  \n",
      "__________________________________________________________________________________________________\n",
      "max_pooling2d_11 (MaxPooling2D) (None, 32, 32, 16)   0           conv2d_44[0][0]                  \n",
      "__________________________________________________________________________________________________\n",
      "dropout_2 (Dropout)             (None, 32, 32, 16)   0           max_pooling2d_11[0][0]           \n",
      "__________________________________________________________________________________________________\n",
      "conv2d_45 (Conv2D)              (None, 32, 32, 32)   4640        dropout_2[0][0]                  \n",
      "__________________________________________________________________________________________________\n",
      "conv2d_46 (Conv2D)              (None, 32, 32, 32)   9248        conv2d_45[0][0]                  \n",
      "__________________________________________________________________________________________________\n",
      "max_pooling2d_12 (MaxPooling2D) (None, 16, 16, 32)   0           conv2d_46[0][0]                  \n",
      "__________________________________________________________________________________________________\n",
      "dropout_3 (Dropout)             (None, 16, 16, 32)   0           max_pooling2d_12[0][0]           \n",
      "__________________________________________________________________________________________________\n",
      "conv2d_47 (Conv2D)              (None, 16, 16, 64)   18496       dropout_3[0][0]                  \n",
      "__________________________________________________________________________________________________\n",
      "conv2d_48 (Conv2D)              (None, 16, 16, 64)   36928       conv2d_47[0][0]                  \n",
      "__________________________________________________________________________________________________\n",
      "max_pooling2d_13 (MaxPooling2D) (None, 8, 8, 64)     0           conv2d_48[0][0]                  \n",
      "__________________________________________________________________________________________________\n",
      "dropout_4 (Dropout)             (None, 8, 8, 64)     0           max_pooling2d_13[0][0]           \n",
      "__________________________________________________________________________________________________\n",
      "conv2d_49 (Conv2D)              (None, 8, 8, 128)    73856       dropout_4[0][0]                  \n",
      "__________________________________________________________________________________________________\n",
      "conv2d_50 (Conv2D)              (None, 8, 8, 128)    147584      conv2d_49[0][0]                  \n",
      "__________________________________________________________________________________________________\n",
      "conv2d_transpose_9 (Conv2DTrans (None, 16, 16, 64)   32832       conv2d_50[0][0]                  \n",
      "__________________________________________________________________________________________________\n",
      "concatenate_9 (Concatenate)     (None, 16, 16, 128)  0           conv2d_transpose_9[0][0]         \n",
      "                                                                 conv2d_48[0][0]                  \n",
      "__________________________________________________________________________________________________\n",
      "dropout_5 (Dropout)             (None, 16, 16, 128)  0           concatenate_9[0][0]              \n",
      "__________________________________________________________________________________________________\n",
      "conv2d_51 (Conv2D)              (None, 16, 16, 64)   73792       dropout_5[0][0]                  \n",
      "__________________________________________________________________________________________________\n",
      "conv2d_52 (Conv2D)              (None, 16, 16, 64)   36928       conv2d_51[0][0]                  \n",
      "__________________________________________________________________________________________________\n",
      "conv2d_transpose_10 (Conv2DTran (None, 32, 32, 32)   8224        conv2d_52[0][0]                  \n",
      "__________________________________________________________________________________________________\n",
      "concatenate_10 (Concatenate)    (None, 32, 32, 64)   0           conv2d_transpose_10[0][0]        \n",
      "                                                                 conv2d_46[0][0]                  \n",
      "__________________________________________________________________________________________________\n",
      "dropout_6 (Dropout)             (None, 32, 32, 64)   0           concatenate_10[0][0]             \n",
      "__________________________________________________________________________________________________\n",
      "conv2d_53 (Conv2D)              (None, 32, 32, 32)   18464       dropout_6[0][0]                  \n",
      "__________________________________________________________________________________________________\n",
      "conv2d_54 (Conv2D)              (None, 32, 32, 32)   9248        conv2d_53[0][0]                  \n",
      "__________________________________________________________________________________________________\n",
      "conv2d_transpose_11 (Conv2DTran (None, 64, 64, 16)   2064        conv2d_54[0][0]                  \n",
      "__________________________________________________________________________________________________\n",
      "concatenate_11 (Concatenate)    (None, 64, 64, 32)   0           conv2d_transpose_11[0][0]        \n",
      "                                                                 conv2d_44[0][0]                  \n",
      "__________________________________________________________________________________________________\n",
      "dropout_7 (Dropout)             (None, 64, 64, 32)   0           concatenate_11[0][0]             \n",
      "__________________________________________________________________________________________________\n",
      "conv2d_55 (Conv2D)              (None, 64, 64, 16)   4624        dropout_7[0][0]                  \n",
      "__________________________________________________________________________________________________\n",
      "conv2d_56 (Conv2D)              (None, 64, 64, 16)   2320        conv2d_55[0][0]                  \n",
      "__________________________________________________________________________________________________\n",
      "conv2d_transpose_12 (Conv2DTran (None, 128, 128, 8)  520         conv2d_56[0][0]                  \n",
      "__________________________________________________________________________________________________\n",
      "concatenate_12 (Concatenate)    (None, 128, 128, 16) 0           conv2d_transpose_12[0][0]        \n",
      "                                                                 conv2d_42[0][0]                  \n",
      "__________________________________________________________________________________________________\n",
      "dropout_8 (Dropout)             (None, 128, 128, 16) 0           concatenate_12[0][0]             \n"
     ]
    },
    {
     "name": "stdout",
     "output_type": "stream",
     "text": [
      "__________________________________________________________________________________________________\n",
      "conv2d_57 (Conv2D)              (None, 128, 128, 8)  1160        dropout_8[0][0]                  \n",
      "__________________________________________________________________________________________________\n",
      "conv2d_58 (Conv2D)              (None, 128, 128, 8)  584         conv2d_57[0][0]                  \n",
      "__________________________________________________________________________________________________\n",
      "conv2d_59 (Conv2D)              (None, 128, 128, 1)  9           conv2d_58[0][0]                  \n",
      "==================================================================================================\n",
      "Total params: 485,673\n",
      "Trainable params: 485,673\n",
      "Non-trainable params: 0\n",
      "__________________________________________________________________________________________________\n"
     ]
    }
   ],
   "source": [
    "model.summary()"
   ]
  },
  {
   "cell_type": "code",
   "execution_count": 49,
   "metadata": {},
   "outputs": [],
   "source": [
    "model.compile(loss = \"binary_crossentropy\", optimizer = \"adam\",\n",
    "              metrics = [iou_metric])"
   ]
  },
  {
   "cell_type": "code",
   "execution_count": 52,
   "metadata": {},
   "outputs": [
    {
     "name": "stdout",
     "output_type": "stream",
     "text": [
      "Train on 3200 samples, validate on 800 samples\n",
      "Epoch 1/30\n",
      " - 29s - loss: 0.1757 - iou_metric: 0.6748 - val_loss: 0.2052 - val_iou_metric: 0.6768\n"
     ]
    },
    {
     "name": "stderr",
     "output_type": "stream",
     "text": [
      "C:\\Users\\wlyip\\Anaconda3\\lib\\site-packages\\keras\\callbacks.py:432: RuntimeWarning: Can save best model only with val_acc available, skipping.\n",
      "  'skipping.' % (self.monitor), RuntimeWarning)\n"
     ]
    },
    {
     "name": "stdout",
     "output_type": "stream",
     "text": [
      "Epoch 2/30\n",
      " - 29s - loss: 0.1743 - iou_metric: 0.6789 - val_loss: 0.1937 - val_iou_metric: 0.6808\n",
      "Epoch 3/30\n",
      " - 29s - loss: 0.1714 - iou_metric: 0.6827 - val_loss: 0.1940 - val_iou_metric: 0.6846\n",
      "Epoch 4/30\n",
      " - 29s - loss: 0.1703 - iou_metric: 0.6864 - val_loss: 0.1800 - val_iou_metric: 0.6882\n",
      "Epoch 5/30\n",
      " - 29s - loss: 0.1697 - iou_metric: 0.6899 - val_loss: 0.1755 - val_iou_metric: 0.6916\n",
      "Epoch 6/30\n",
      " - 28s - loss: 0.1680 - iou_metric: 0.6932 - val_loss: 0.1718 - val_iou_metric: 0.6948\n",
      "Epoch 7/30\n",
      " - 28s - loss: 0.1661 - iou_metric: 0.6964 - val_loss: 0.1912 - val_iou_metric: 0.6978\n",
      "Epoch 8/30\n",
      " - 28s - loss: 0.1679 - iou_metric: 0.6992 - val_loss: 0.1897 - val_iou_metric: 0.7007\n",
      "Epoch 9/30\n",
      " - 28s - loss: 0.1635 - iou_metric: 0.7021 - val_loss: 0.2007 - val_iou_metric: 0.7036\n",
      "Epoch 10/30\n",
      " - 29s - loss: 0.1629 - iou_metric: 0.7048 - val_loss: 0.1736 - val_iou_metric: 0.7063\n",
      "Epoch 11/30\n",
      " - 29s - loss: 0.1638 - iou_metric: 0.7076 - val_loss: 0.1761 - val_iou_metric: 0.7089\n",
      "\n",
      "Epoch 00011: ReduceLROnPlateau reducing learning rate to 4.0000001899898055e-05.\n",
      "Epoch 12/30\n",
      " - 29s - loss: 0.1573 - iou_metric: 0.7102 - val_loss: 0.1806 - val_iou_metric: 0.7115\n",
      "Epoch 13/30\n",
      " - 29s - loss: 0.1550 - iou_metric: 0.7128 - val_loss: 0.1744 - val_iou_metric: 0.7140\n",
      "Epoch 14/30\n",
      " - 28s - loss: 0.1566 - iou_metric: 0.7152 - val_loss: 0.1741 - val_iou_metric: 0.7163\n",
      "Epoch 15/30\n",
      " - 29s - loss: 0.1563 - iou_metric: 0.7174 - val_loss: 0.1743 - val_iou_metric: 0.7186\n",
      "Epoch 16/30\n",
      " - 28s - loss: 0.1537 - iou_metric: 0.7197 - val_loss: 0.1747 - val_iou_metric: 0.7208\n",
      "\n",
      "Epoch 00016: ReduceLROnPlateau reducing learning rate to 1e-05.\n",
      "Epoch 17/30\n",
      " - 29s - loss: 0.1520 - iou_metric: 0.7218 - val_loss: 0.1764 - val_iou_metric: 0.7229\n",
      "Epoch 18/30\n",
      " - 28s - loss: 0.1523 - iou_metric: 0.7239 - val_loss: 0.1745 - val_iou_metric: 0.7249\n",
      "Epoch 19/30\n",
      " - 28s - loss: 0.1533 - iou_metric: 0.7259 - val_loss: 0.1760 - val_iou_metric: 0.7269\n",
      "Epoch 20/30\n",
      " - 28s - loss: 0.1530 - iou_metric: 0.7278 - val_loss: 0.1761 - val_iou_metric: 0.7288\n",
      "Epoch 21/30\n",
      " - 28s - loss: 0.1523 - iou_metric: 0.7296 - val_loss: 0.1756 - val_iou_metric: 0.7305\n",
      "Epoch 22/30\n",
      " - 28s - loss: 0.1531 - iou_metric: 0.7315 - val_loss: 0.1762 - val_iou_metric: 0.7323\n",
      "Epoch 23/30\n",
      " - 28s - loss: 0.1515 - iou_metric: 0.7332 - val_loss: 0.1766 - val_iou_metric: 0.7340\n",
      "Epoch 24/30\n",
      " - 28s - loss: 0.1539 - iou_metric: 0.7348 - val_loss: 0.1753 - val_iou_metric: 0.7355\n",
      "Epoch 25/30\n",
      " - 28s - loss: 0.1536 - iou_metric: 0.7363 - val_loss: 0.1761 - val_iou_metric: 0.7370\n",
      "Epoch 26/30\n",
      " - 28s - loss: 0.1534 - iou_metric: 0.7378 - val_loss: 0.1755 - val_iou_metric: 0.7385\n",
      "Epoch 00026: early stopping\n"
     ]
    }
   ],
   "source": [
    "early_stopping = EarlyStopping(monitor = \"val_loss\", mode = \"min\",\n",
    "                               patience = 20, verbose = 1)\n",
    "model_checkpoint = ModelCheckpoint(\"first model/best.h5\", \n",
    "                                    monitor = \"val_acc\", mode = \"max\",\n",
    "                                    save_best_only = True, verbose = 1)\n",
    "reduce_lr = ReduceLROnPlateau(monitor = \"val_loss\", mode = \"min\", factor = 0.2,\n",
    "                              patience = 5, min_lr = 0.00001, verbose = 1)\n",
    "\n",
    "train_history = model.fit(X_train, Y_train, validation_data = (X_valid, Y_valid),\n",
    "                          batch_size = 8, epochs = 30, \n",
    "                          callbacks = [early_stopping, model_checkpoint, reduce_lr],\n",
    "                          verbose = 2\n",
    "                         )"
   ]
  },
  {
   "cell_type": "code",
   "execution_count": 53,
   "metadata": {},
   "outputs": [
    {
     "data": {
      "text/plain": [
       "Text(0.5,0,'epoch')"
      ]
     },
     "execution_count": 53,
     "metadata": {},
     "output_type": "execute_result"
    },
    {
     "data": {
      "image/png": "[encoded data removed]",
      "text/plain": [
       "<Figure size 432x288 with 2 Axes>"
      ]
     },
     "metadata": {},
     "output_type": "display_data"
    }
   ],
   "source": [
    "plt.subplot(1, 2, 1)\n",
    "plt.plot(train_history.history[\"iou_metric\"])\n",
    "plt.plot(train_history.history[\"val_iou_metric\"])\n",
    "plt.title(\"iou_metric\")\n",
    "plt.xlabel(\"epoch\")\n",
    "\n",
    "plt.subplot(1, 2, 2)\n",
    "plt.plot(train_history.history[\"loss\"])\n",
    "plt.plot(train_history.history[\"val_loss\"])\n",
    "plt.title(\"Loss\")\n",
    "plt.xlabel(\"epoch\")"
   ]
  },
  {
   "cell_type": "code",
   "execution_count": 54,
   "metadata": {},
   "outputs": [
    {
     "name": "stdout",
     "output_type": "stream",
     "text": [
      "3200/3200 [==============================] - ETA: 1: - ETA: 43s - ETA: 30 - ETA: 23 - ETA: 19 - ETA: 16 - ETA: 15 - ETA: 13 - ETA: 11 - ETA: 10 - ETA: 10 - ETA: 9 - ETA:  - ETA:  - ETA:  - ETA:  - ETA:  - ETA:  - ETA:  - ETA:  - ETA:  - ETA:  - ETA:  - ETA:  - ETA:  - ETA:  - ETA:  - ETA:  - ETA:  - ETA:  - ETA:  - ETA:  - ETA:  - ETA:  - ETA:  - ETA:  - ETA:  - ETA:  - ETA:  - ETA:  - ETA:  - ETA:  - ETA:  - ETA:  - ETA:  - ETA:  - ETA:  - ETA:  - ETA:  - ETA:  - ETA:  - ETA:  - ETA:  - ETA:  - ETA:  - ETA:  - ETA:  - ETA:  - ETA:  - ETA:  - ETA:  - ETA:  - ETA:  - ETA:  - ETA:  - ETA:  - ETA:  - ETA:  - ETA:  - ETA:  - ETA:  - ETA:  - ETA:  - ETA:  - ETA:  - ETA:  - ETA:  - ETA:  - 6s 2ms/step\n"
     ]
    }
   ],
   "source": [
    "train_pred = model.predict(X_train, verbose = 1)\n",
    "train_pred = (train_pred > 0.5).astype(int)"
   ]
  },
  {
   "cell_type": "code",
   "execution_count": 82,
   "metadata": {},
   "outputs": [
    {
     "data": {
      "image/png": "[encoded data removed]",
      "text/plain": [
       "<Figure size 432x288 with 1 Axes>"
      ]
     },
     "metadata": {},
     "output_type": "display_data"
    },
    {
     "data": {
      "image/png": "[encoded data removed]",
      "text/plain": [
       "<Figure size 432x288 with 1 Axes>"
      ]
     },
     "metadata": {},
     "output_type": "display_data"
    },
    {
     "data": {
      "image/png": "[encoded data removed]",
      "text/plain": [
       "<Figure size 432x288 with 1 Axes>"
      ]
     },
     "metadata": {},
     "output_type": "display_data"
    }
   ],
   "source": [
    "# Perform a sanity check on some random training samples\n",
    "ix = np.random.randint(0, len(train_pred))\n",
    "plt.imshow(np.dstack((X_train[ix],X_train[ix],X_train[ix])))\n",
    "plt.show()\n",
    "tmp = np.squeeze(Y_train[ix]).astype(np.float32)\n",
    "plt.imshow(np.dstack((tmp,tmp,tmp)))\n",
    "plt.show()\n",
    "tmp = np.squeeze(train_pred[ix]).astype(np.float32)\n",
    "plt.imshow(np.dstack((tmp,tmp,tmp)))\n",
    "plt.show()"
   ]
  },
  {
   "cell_type": "code",
   "execution_count": null,
   "metadata": {},
   "outputs": [],
   "source": [
    "# src: https://www.kaggle.com/aglotero/another-iou-metric\n",
    "def iou_metric(y_true_in, y_pred_in, print_table=False):\n",
    "    labels = y_true_in\n",
    "    y_pred = y_pred_in\n",
    "    \n",
    "    true_objects = 2\n",
    "    pred_objects = 2\n",
    "\n",
    "    intersection = np.histogram2d(labels.flatten(), y_pred.flatten(), bins=(true_objects, pred_objects))[0]\n",
    "\n",
    "    # Compute areas (needed for finding the union between all objects)\n",
    "    area_true = np.histogram(labels, bins = true_objects)[0]\n",
    "    area_pred = np.histogram(y_pred, bins = pred_objects)[0]\n",
    "    area_true = np.expand_dims(area_true, -1)\n",
    "    area_pred = np.expand_dims(area_pred, 0)\n",
    "\n",
    "    # Compute union\n",
    "    union = area_true + area_pred - intersection\n",
    "\n",
    "    # Exclude background from the analysis\n",
    "    intersection = intersection[1:,1:]\n",
    "    union = union[1:,1:]\n",
    "    union[union == 0] = 1e-9\n",
    "\n",
    "    # Compute the intersection over union\n",
    "    iou = intersection / union\n",
    "\n",
    "    # Precision helper function\n",
    "    def precision_at(threshold, iou):\n",
    "        matches = iou > threshold\n",
    "        true_positives = np.sum(matches, axis=1) == 1   # Correct objects\n",
    "        false_positives = np.sum(matches, axis=0) == 0  # Missed objects\n",
    "        false_negatives = np.sum(matches, axis=1) == 0  # Extra objects\n",
    "        tp, fp, fn = np.sum(true_positives), np.sum(false_positives), np.sum(false_negatives)\n",
    "        return tp, fp, fn\n",
    "\n",
    "    # Loop over IoU thresholds\n",
    "    prec = []\n",
    "    if print_table:\n",
    "        print(\"Thresh\\tTP\\tFP\\tFN\\tPrec.\")\n",
    "    for t in np.arange(0.5, 1.0, 0.05):\n",
    "        tp, fp, fn = precision_at(t, iou)\n",
    "        if (tp + fp + fn) > 0:\n",
    "            p = tp / (tp + fp + fn)\n",
    "        else:\n",
    "            p = 0\n",
    "        if print_table:\n",
    "            print(\"{:1.3f}\\t{}\\t{}\\t{}\\t{:1.3f}\".format(t, tp, fp, fn, p))\n",
    "        prec.append(p)\n",
    "    \n",
    "    if print_table:\n",
    "        print(\"AP\\t-\\t-\\t-\\t{:1.3f}\".format(np.mean(prec)))\n",
    "    return np.mean(prec)\n",
    "\n",
    "def iou_metric_batch(y_true_in, y_pred_in):\n",
    "    batch_size = y_true_in.shape[0]\n",
    "    metric = []\n",
    "    for batch in range(batch_size):\n",
    "        value = iou_metric(y_true_in[batch], y_pred_in[batch])\n",
    "        metric.append(value)\n",
    "    return np.mean(metric)"
   ]
  },
  {
   "cell_type": "code",
   "execution_count": null,
   "metadata": {},
   "outputs": [],
   "source": [
    "thresholds = np.linspace(0, 1, 50)\n",
    "ious = np.array([iou_metric_batch(Y_train, np.int32(train_pred > threshold)) for threshold in tqdm_notebook(thresholds)])"
   ]
  },
  {
   "cell_type": "code",
   "execution_count": null,
   "metadata": {},
   "outputs": [],
   "source": [
    "plt.plot(thresholds, ious)"
   ]
  },
  {
   "cell_type": "code",
   "execution_count": 83,
   "metadata": {},
   "outputs": [
    {
     "data": {
      "application/vnd.jupyter.widget-view+json": {
       "model_id": "0c0b389d953a4c3a9f5d26e43220f0e0",
       "version_major": 2,
       "version_minor": 0
      },
      "text/plain": [
       "HBox(children=(IntProgress(value=0, max=18000), HTML(value='')))"
      ]
     },
     "metadata": {},
     "output_type": "display_data"
    },
    {
     "name": "stdout",
     "output_type": "stream",
     "text": [
      "\n"
     ]
    }
   ],
   "source": [
    "# X_test = [cv2.imread(\"datasets/test/images/{}\".format(filename))[:, :, 0] / 255.\n",
    "#                for filename in os.listdir(\"datasets/test/images\")]\n",
    "# X_test = np.array(X_test)\n",
    "X_test = np.zeros((len(test_ids), im_height, im_width, 1), dtype = np.uint8)\n",
    "for n, id_ in tqdm_notebook(enumerate(test_ids), total = len(test_ids)):\n",
    "    path = \"datasets/test/\"\n",
    "    img = cv2.imread(path + \"images/\" + id_)\n",
    "    x = img[:, :, 1]\n",
    "    x = resize_img(x, 128)\n",
    "    X_test[n] = x"
   ]
  },
  {
   "cell_type": "code",
   "execution_count": 84,
   "metadata": {},
   "outputs": [
    {
     "name": "stdout",
     "output_type": "stream",
     "text": [
      "18000/18000 [==============================] - ETA: 30 - ETA: 29 - ETA: 29 - ETA: 28 - ETA: 28 - ETA: 28 - ETA: 28 - ETA: 28 - ETA: 28 - ETA: 28 - ETA: 28 - ETA: 28 - ETA: 28 - ETA: 28 - ETA: 28 - ETA: 27 - ETA: 27 - ETA: 27 - ETA: 27 - ETA: 27 - ETA: 27 - ETA: 27 - ETA: 27 - ETA: 27 - ETA: 27 - ETA: 27 - ETA: 27 - ETA: 27 - ETA: 27 - ETA: 27 - ETA: 27 - ETA: 27 - ETA: 26 - ETA: 26 - ETA: 26 - ETA: 26 - ETA: 26 - ETA: 26 - ETA: 26 - ETA: 26 - ETA: 26 - ETA: 26 - ETA: 26 - ETA: 26 - ETA: 26 - ETA: 26 - ETA: 26 - ETA: 26 - ETA: 26 - ETA: 26 - ETA: 26 - ETA: 25 - ETA: 25 - ETA: 25 - ETA: 25 - ETA: 25 - ETA: 25 - ETA: 25 - ETA: 25 - ETA: 25 - ETA: 25 - ETA: 25 - ETA: 25 - ETA: 25 - ETA: 25 - ETA: 25 - ETA: 25 - ETA: 24 - ETA: 24 - ETA: 24 - ETA: 24 - ETA: 24 - ETA: 24 - ETA: 24 - ETA: 24 - ETA: 24 - ETA: 24 - ETA: 24 - ETA: 24 - ETA: 24 - ETA: 24 - ETA: 24 - ETA: 24 - ETA: 24 - ETA: 23 - ETA: 23 - ETA: 23 - ETA: 23 - ETA: 23 - ETA: 23 - ETA: 23 - ETA: 23 - ETA: 23 - ETA: 23 - ETA: 23 - ETA: 23 - ETA: 23 - ETA: 23 - ETA: 23 - ETA: 23 - ETA: 23 - ETA: 23 - ETA: 23 - ETA: 23 - ETA: 22 - ETA: 22 - ETA: 22 - ETA: 22 - ETA: 22 - ETA: 22 - ETA: 22 - ETA: 22 - ETA: 22 - ETA: 22 - ETA: 22 - ETA: 22 - ETA: 22 - ETA: 22 - ETA: 22 - ETA: 22 - ETA: 22 - ETA: 22 - ETA: 21 - ETA: 21 - ETA: 21 - ETA: 21 - ETA: 21 - ETA: 21 - ETA: 21 - ETA: 21 - ETA: 21 - ETA: 21 - ETA: 21 - ETA: 21 - ETA: 21 - ETA: 21 - ETA: 21 - ETA: 21 - ETA: 21 - ETA: 21 - ETA: 21 - ETA: 21 - ETA: 20 - ETA: 20 - ETA: 20 - ETA: 20 - ETA: 20 - ETA: 20 - ETA: 20 - ETA: 20 - ETA: 20 - ETA: 20 - ETA: 20 - ETA: 20 - ETA: 20 - ETA: 20 - ETA: 20 - ETA: 20 - ETA: 20 - ETA: 20 - ETA: 19 - ETA: 19 - ETA: 19 - ETA: 19 - ETA: 19 - ETA: 19 - ETA: 19 - ETA: 19 - ETA: 19 - ETA: 19 - ETA: 19 - ETA: 19 - ETA: 19 - ETA: 19 - ETA: 19 - ETA: 19 - ETA: 19 - ETA: 18 - ETA: 18 - ETA: 18 - ETA: 18 - ETA: 18 - ETA: 18 - ETA: 18 - ETA: 18 - ETA: 18 - ETA: 18 - ETA: 18 - ETA: 18 - ETA: 18 - ETA: 18 - ETA: 18 - ETA: 18 - ETA: 17 - ETA: 17 - ETA: 17 - ETA: 17 - ETA: 17 - ETA: 17 - ETA: 17 - ETA: 17 - ETA: 17 - ETA: 17 - ETA: 17 - ETA: 17 - ETA: 17 - ETA: 17 - ETA: 17 - ETA: 17 - ETA: 17 - ETA: 16 - ETA: 16 - ETA: 16 - ETA: 16 - ETA: 16 - ETA: 16 - ETA: 16 - ETA: 16 - ETA: 16 - ETA: 16 - ETA: 16 - ETA: 16 - ETA: 16 - ETA: 16 - ETA: 16 - ETA: 16 - ETA: 16 - ETA: 15 - ETA: 15 - ETA: 15 - ETA: 15 - ETA: 15 - ETA: 15 - ETA: 15 - ETA: 15 - ETA: 15 - ETA: 15 - ETA: 15 - ETA: 15 - ETA: 15 - ETA: 15 - ETA: 15 - ETA: 15 - ETA: 15 - ETA: 15 - ETA: 14 - ETA: 14 - ETA: 14 - ETA: 14 - ETA: 14 - ETA: 14 - ETA: 14 - ETA: 14 - ETA: 14 - ETA: 14 - ETA: 14 - ETA: 14 - ETA: 14 - ETA: 14 - ETA: 14 - ETA: 14 - ETA: 13 - ETA: 13 - ETA: 13 - ETA: 13 - ETA: 13 - ETA: 13 - ETA: 13 - ETA: 13 - ETA: 13 - ETA: 13 - ETA: 13 - ETA: 13 - ETA: 13 - ETA: 13 - ETA: 13 - ETA: 13 - ETA: 13 - ETA: 13 - ETA: 13 - ETA: 12 - ETA: 12 - ETA: 12 - ETA: 12 - ETA: 12 - ETA: 12 - ETA: 12 - ETA: 12 - ETA: 12 - ETA: 12 - ETA: 12 - ETA: 12 - ETA: 12 - ETA: 12 - ETA: 12 - ETA: 12 - ETA: 12 - ETA: 12 - ETA: 12 - ETA: 12 - ETA: 11 - ETA: 11 - ETA: 11 - ETA: 11 - ETA: 11 - ETA: 11 - ETA: 11 - ETA: 11 - ETA: 11 - ETA: 11 - ETA: 11 - ETA: 11 - ETA: 11 - ETA: 11 - ETA: 11 - ETA: 11 - ETA: 11 - ETA: 10 - ETA: 10 - ETA: 10 - ETA: 10 - ETA: 10 - ETA: 10 - ETA: 10 - ETA: 10 - ETA: 10 - ETA: 10 - ETA: 10 - ETA: 10 - ETA: 10 - ETA: 10 - ETA: 10 - ETA: 10 - ETA: 10 - ETA: 10 - ETA: 10 - ETA: 10 - ETA: 9 - ETA:  - ETA:  - ETA:  - ETA:  - ETA:  - ETA:  - ETA:  - ETA:  - ETA:  - ETA:  - ETA:  - ETA:  - ETA:  - ETA:  - ETA:  - ETA:  - ETA:  - ETA:  - ETA:  - ETA:  - ETA:  - ETA:  - ETA:  - ETA:  - ETA:  - ETA:  - ETA:  - ETA:  - ETA:  - ETA:  - ETA:  - ETA:  - ETA:  - ETA:  - ETA:  - ETA:  - ETA:  - ETA:  - ETA:  - ETA:  - ETA:  - ETA:  - ETA:  - ETA:  - ETA:  - ETA:  - ETA:  - ETA:  - ETA:  - ETA:  - ETA:  - ETA:  - ETA:  - ETA:  - ETA:  - ETA:  - ETA:  - ETA:  - ETA:  - ETA:  - ETA:  - ETA:  - ETA:  - ETA:  - ETA:  - ETA:  - ETA:  - ETA:  - ETA:  - ETA:  - ETA:  - ETA:  - ETA:  - ETA:  - ETA:  - ETA:  - ETA:  - ETA:  - ETA:  - ETA:  - ETA:  - ETA:  - ETA:  - ETA:  - ETA:  - ETA:  - ETA:  - ETA:  - ETA:  - ETA:  - ETA:  - ETA:  - ETA:  - ETA:  - ETA:  - ETA:  - ETA:  - ETA:  - ETA:  - ETA:  - ETA:  - ETA:  - ETA:  - ETA:  - ETA:  - ETA:  - ETA:  - ETA:  - ETA:  - ETA:  - ETA:  - ETA:  - ETA:  - ETA:  - ETA:  - ETA:  - ETA:  - ETA:  - ETA:  - ETA:  - ETA:  - ETA:  - ETA:  - ETA:  - ETA:  - ETA:  - ETA:  - ETA:  - ETA:  - ETA:  - ETA:  - ETA:  - ETA:  - ETA:  - ETA:  - ETA:  - ETA:  - ETA:  - ETA:  - ETA:  - ETA:  - ETA:  - ETA:  - ETA:  - ETA:  - ETA:  - ETA:  - ETA:  - ETA:  - ETA:  - ETA:  - ETA:  - ETA:  - ETA:  - ETA:  - ETA:  - ETA:  - ETA:  - ETA:  - ETA:  - ETA:  - ETA:  - ETA:  - ETA:  - ETA:  - ETA:  - ETA:  - ETA:  - ETA:  - ETA:  - ETA:  - ETA:  - ETA:  - ETA:  - ETA:  - ETA:  - ETA:  - ETA:  - ETA:  - ETA:  - ETA:  - ETA:  - ETA:  - ETA:  - ETA:  - ETA:  - 29s 2ms/step\n"
     ]
    }
   ],
   "source": [
    "predict = model.predict(X_test, verbose = 1)"
   ]
  },
  {
   "cell_type": "code",
   "execution_count": 85,
   "metadata": {},
   "outputs": [
    {
     "data": {
      "application/vnd.jupyter.widget-view+json": {
       "model_id": "d787185207d8478cb8f0c380edce27d7",
       "version_major": 2,
       "version_minor": 0
      },
      "text/plain": [
       "HBox(children=(IntProgress(value=0, max=18000), HTML(value='')))"
      ]
     },
     "metadata": {},
     "output_type": "display_data"
    },
    {
     "name": "stdout",
     "output_type": "stream",
     "text": [
      "\n"
     ]
    }
   ],
   "source": [
    "# Create list of upsampled test masks\n",
    "preds_test_upsampled = []\n",
    "for i in tnrange(len(predict)):\n",
    "    preds_test_upsampled.append(resize(np.squeeze(predict[i]), \n",
    "                                       (101, 101), \n",
    "                                       mode='constant', preserve_range=True))"
   ]
  },
  {
   "cell_type": "code",
   "execution_count": 86,
   "metadata": {},
   "outputs": [],
   "source": [
    "predict = np.array(preds_test_upsampled)"
   ]
  },
  {
   "cell_type": "code",
   "execution_count": 87,
   "metadata": {},
   "outputs": [],
   "source": [
    "#even faster RLE encoder\n",
    "def toRunLength(x, firstDim = 2):\n",
    "    \n",
    "    if firstDim == 2:\n",
    "        x = np.swapaxes(x, 1,2)\n",
    "    \n",
    "    x = (x > 0.5).astype(int)\n",
    "    x = x.reshape((x.shape[0], -1))    \n",
    "    x = np.pad(x, ((0,0),(1,1)), 'constant')\n",
    "    \n",
    "    x = x[:,1:] - x[:,:-1]\n",
    "    starts = x > 0\n",
    "    ends = x < 0\n",
    "    \n",
    "    rang = np.arange(x.shape[1])\n",
    "    \n",
    "    results = []\n",
    "    \n",
    "    for image, imStarts, imEnds in zip(x, starts, ends):\n",
    "        st = rang[imStarts]\n",
    "        en = rang[imEnds]\n",
    "        \n",
    "#         counts = (en-st).astype(str)\n",
    "#         st = (st+1).astype(str)\n",
    "        \n",
    "#         res = np.stack([st,counts], axis=-1).reshape((-1,))\n",
    "#         res = np.core.defchararray.join(\" \", res)\n",
    "\n",
    "        res = \"\"\n",
    "        for s,e in zip(st,en):\n",
    "            res += str(s+1) + \" \" + str(e-s) + \" \"\n",
    "            \n",
    "        results.append(res[:-1])\n",
    "    #print(\"called\")\n",
    "        \n",
    "    return results"
   ]
  },
  {
   "cell_type": "code",
   "execution_count": 88,
   "metadata": {},
   "outputs": [],
   "source": [
    "result = toRunLength(predict)\n",
    "test_ids = os.listdir(\"datasets/test/images\")\n",
    "pred_dict = {test_id.replace(\".png\", \"\"): result[i] for i, test_id in enumerate(test_ids)}"
   ]
  },
  {
   "cell_type": "code",
   "execution_count": 89,
   "metadata": {},
   "outputs": [],
   "source": [
    "sub = pd.DataFrame.from_dict(pred_dict, orient = \"index\")\n",
    "sub.index.names = [\"id\"]\n",
    "sub.columns = [\"rle_mask\"]\n",
    "sub.to_csv(\"submission.csv\")"
   ]
  },
  {
   "cell_type": "code",
   "execution_count": null,
   "metadata": {},
   "outputs": [],
   "source": []
  },
  {
   "cell_type": "code",
   "execution_count": null,
   "metadata": {},
   "outputs": [],
   "source": []
  }
 ],
 "metadata": {
  "kernelspec": {
   "display_name": "Python 3",
   "language": "python",
   "name": "python3"
  },
  "language_info": {
   "codemirror_mode": {
    "name": "ipython",
    "version": 3
   },
   "file_extension": ".py",
   "mimetype": "text/x-python",
   "name": "python",
   "nbconvert_exporter": "python",
   "pygments_lexer": "ipython3",
   "version": "3.6.5"
  }
 },
 "nbformat": 4,
 "nbformat_minor": 2
}
